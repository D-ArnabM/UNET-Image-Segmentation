{
 "cells": [
  {
   "cell_type": "code",
   "execution_count": 1,
   "id": "05136b20",
   "metadata": {},
   "outputs": [],
   "source": [
    "#installations and imports\n",
    "\n",
    "import torch\n",
    "import torch.nn as nn\n",
    "import torch.optim as optim\n",
    "from torch.utils.data import DataLoader, Dataset\n",
    "import torchvision.transforms as transforms\n",
    "import numpy as np\n",
    "from PIL import Image"
   ]
  },
  {
   "cell_type": "code",
   "execution_count": 2,
   "id": "834b7d42",
   "metadata": {},
   "outputs": [],
   "source": [
    "# Define the UNet architecture\n",
    "class UNet(nn.Module):\n",
    "    def __init__(self):\n",
    "        super(UNet, self).__init__()\n",
    "        # Define the contracting path\n",
    "        self.contracting_path = nn.Sequential(\n",
    "            nn.Conv2d(3, 64, kernel_size=3, padding=1),\n",
    "            nn.ReLU(inplace=True),\n",
    "            nn.Conv2d(64, 64, kernel_size=3, padding=1),\n",
    "            nn.ReLU(inplace=True),\n",
    "            nn.MaxPool2d(kernel_size=2, stride=2)\n",
    "        )\n",
    "        # Define the expansive path\n",
    "        self.expansive_path = nn.Sequential(\n",
    "            nn.Conv2d(64, 64, kernel_size=3, padding=1),\n",
    "            nn.ReLU(inplace=True),\n",
    "            nn.Conv2d(64, 64, kernel_size=3, padding=1),\n",
    "            nn.ReLU(inplace=True),\n",
    "            nn.ConvTranspose2d(64, 3, kernel_size=2, stride=2)\n",
    "        )\n",
    "\n",
    "    def forward(self, x):\n",
    "        # Forward pass through contracting and expansive paths\n",
    "        x = self.contracting_path(x)\n",
    "        x = self.expansive_path(x)\n",
    "        return x\n"
   ]
  },
  {
   "cell_type": "code",
   "execution_count": 3,
   "id": "e3f18146",
   "metadata": {},
   "outputs": [],
   "source": [
    "# Define custom dataset class\n",
    "class CustomDataset(Dataset):\n",
    "    def __init__(self, image_paths, mask_paths, transform=None):\n",
    "        self.image_paths = image_paths\n",
    "        self.mask_paths = mask_paths\n",
    "        self.transform = transform\n",
    "\n",
    "    def __len__(self):\n",
    "        return len(self.image_paths)\n",
    "\n",
    "    def __getitem__(self, idx):\n",
    "        # Load image and mask\n",
    "        image = Image.open(self.image_paths[idx]).convert('RGB')\n",
    "        mask = Image.open(self.mask_paths[idx]).convert('RGB')\n",
    "        # Apply transformations\n",
    "        if self.transform:\n",
    "            image = self.transform(image)\n",
    "            mask = self.transform(mask)\n",
    "        return image, mask\n"
   ]
  },
  {
   "cell_type": "code",
   "execution_count": 4,
   "id": "94f70a37",
   "metadata": {},
   "outputs": [],
   "source": [
    "# Define training parameters\n",
    "batch_size = 3\n",
    "lr = 0.001\n",
    "num_epochs = 10"
   ]
  },
  {
   "cell_type": "code",
   "execution_count": 5,
   "id": "28332a70",
   "metadata": {},
   "outputs": [],
   "source": [
    "# Prepare dataset and dataloaders\n",
    "# Replace the placeholders with paths to your dataset\n",
    "image_paths = ['data/images/img0.jpg','data/images/img1.jpg','data/images/img2.jpg','data/images/img3.jpg','data/images/img4.jpg','data/images/img5.jpg','data/images/img6.jpg','data/images/img7.jpg']\n",
    "# mask_paths = ['data/masks/img0.jpg','data/masks/img1.jpg','data/masks/img2.jpg','data/masks/img3.jpg','data/masks/img4.jpg','data/masks/img5.jpg','data/masks/img6.jpg','data/masks/img7.jpg']\n",
    "mask_paths = ['data/masks_bg/img0.jpg','data/masks_bg/img1.jpg','data/masks_bg/img2.jpg','data/masks_bg/img3.jpg','data/masks_bg/img4.jpg','data/masks_bg/img5.jpg','data/masks_bg/img6.jpg','data/masks_bg/img7.jpg']\n",
    "\n",
    "transform = transforms.Compose([\n",
    "    transforms.Resize((1920,1920)),\n",
    "    transforms.ToTensor()\n",
    "])\n",
    "dataset = CustomDataset(image_paths, mask_paths, transform)\n",
    "dataloader = DataLoader(dataset, batch_size=batch_size, shuffle=True)\n"
   ]
  },
  {
   "cell_type": "code",
   "execution_count": 6,
   "id": "63d5ea3e",
   "metadata": {},
   "outputs": [],
   "source": [
    "## Initialize the model on GPU if available\n",
    "device = torch.device('cuda' if torch.cuda.is_available() else 'cpu')\n",
    "model = UNet().to(device)\n",
    "criterion = nn.BCEWithLogitsLoss()\n",
    "optimizer = optim.Adam(model.parameters(), lr=lr)\n"
   ]
  },
  {
   "cell_type": "code",
   "execution_count": 7,
   "id": "4822ae92",
   "metadata": {},
   "outputs": [
    {
     "name": "stdout",
     "output_type": "stream",
     "text": [
      "Epoch [1/10], Loss: 0.7537\n",
      "Epoch [2/10], Loss: 0.5840\n",
      "Epoch [3/10], Loss: 0.2578\n",
      "Epoch [4/10], Loss: 0.0908\n",
      "Epoch [5/10], Loss: 0.1017\n",
      "Epoch [6/10], Loss: 0.1131\n",
      "Epoch [7/10], Loss: 0.1019\n",
      "Epoch [8/10], Loss: 0.0778\n",
      "Epoch [9/10], Loss: 0.0700\n",
      "Epoch [10/10], Loss: 0.0635\n"
     ]
    }
   ],
   "source": [
    "# Train the model\n",
    "model.train()\n",
    "for epoch in range(num_epochs):\n",
    "    running_loss = 0.0\n",
    "    for images, masks in dataloader:\n",
    "        # Move tensors to GPU\n",
    "        images, masks = images.to(device), masks.to(device)\n",
    "        \n",
    "        optimizer.zero_grad()\n",
    "        outputs = model(images)\n",
    "        loss = criterion(outputs, masks)\n",
    "        loss.backward()\n",
    "        optimizer.step()\n",
    "        running_loss += loss.item() * images.size(0)\n",
    "    epoch_loss = running_loss / len(dataset)\n",
    "    print(f'Epoch [{epoch+1}/{num_epochs}], Loss: {epoch_loss:.4f}')\n"
   ]
  },
  {
   "cell_type": "code",
   "execution_count": 8,
   "id": "5dc291b0",
   "metadata": {},
   "outputs": [],
   "source": [
    "# Save the trained model\n",
    "torch.save(model.state_dict(), 'trained_unet_model.pth')"
   ]
  }
 ],
 "metadata": {
  "kernelspec": {
   "display_name": "Python 3",
   "language": "python",
   "name": "python3"
  },
  "language_info": {
   "codemirror_mode": {
    "name": "ipython",
    "version": 3
   },
   "file_extension": ".py",
   "mimetype": "text/x-python",
   "name": "python",
   "nbconvert_exporter": "python",
   "pygments_lexer": "ipython3",
   "version": "3.11.8"
  }
 },
 "nbformat": 4,
 "nbformat_minor": 5
}
