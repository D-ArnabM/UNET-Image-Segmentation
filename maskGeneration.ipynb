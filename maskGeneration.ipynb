{
 "cells": [
  {
   "cell_type": "code",
   "execution_count": null,
   "id": "508573f9",
   "metadata": {},
   "outputs": [],
   "source": [
    "import torch\n",
    "import torchvision.transforms as transforms\n",
    "from PIL import Image\n",
    "import numpy as np\n",
    "\n",
    "# Load pre-trained UNet model\n",
    "model = torch.load('path_to_pretrained_unet_model.pth')\n",
    "model.eval()\n",
    "\n",
    "# Define transformation to preprocess input images\n",
    "transform = transforms.Compose([\n",
    "    transforms.Resize((256, 256)),\n",
    "    transforms.ToTensor(),\n",
    "])\n",
    "\n",
    "# Define function to apply mask to input image\n",
    "def apply_mask(image, mask):\n",
    "    mask = np.array(mask)\n",
    "    masked_image = np.array(image)\n",
    "    masked_image[mask == 0] = 0\n",
    "    return masked_image\n",
    "\n",
    "# Load and preprocess input image\n",
    "input_image = Image.open('path_to_input_image.jpg').convert('RGB')\n",
    "input_tensor = transform(input_image).unsqueeze(0)\n",
    "\n",
    "# Perform inference\n",
    "with torch.no_grad():\n",
    "    output = model(input_tensor)\n",
    "\n",
    "# Convert output to binary mask\n",
    "mask = (output > 0.5).squeeze().numpy().astype(np.uint8)\n",
    "\n",
    "# Apply mask to input image\n",
    "masked_image = apply_mask(input_image, mask)\n",
    "\n",
    "# Save masked image\n",
    "masked_image = Image.fromarray(masked_image)\n",
    "masked_image.save('masked_output.jpg')\n"
   ]
  }
 ],
 "metadata": {
  "kernelspec": {
   "display_name": "Python 3",
   "language": "python",
   "name": "python3"
  },
  "language_info": {
   "codemirror_mode": {
    "name": "ipython",
    "version": 3
   },
   "file_extension": ".py",
   "mimetype": "text/x-python",
   "name": "python",
   "nbconvert_exporter": "python",
   "pygments_lexer": "ipython3",
   "version": "3.8.8"
  }
 },
 "nbformat": 4,
 "nbformat_minor": 5
}
